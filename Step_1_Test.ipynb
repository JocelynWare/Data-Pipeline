{
 "cells": [
  {
   "cell_type": "code",
   "execution_count": null,
   "metadata": {},
   "outputs": [],
   "source": [
    "## Random code which could be bias subtraction, or whatever ##"
   ]
  },
  {
   "cell_type": "code",
   "execution_count": null,
   "metadata": {},
   "outputs": [],
   "source": [
    "# create something that simple that has parameters that can be edited but also prints something"
   ]
  },
  {
   "cell_type": "code",
   "execution_count": null,
   "metadata": {},
   "outputs": [],
   "source": [
    "# importing the correct modules and generating a graph and editing accordingly\n",
    "import numpy as np\n",
    "import matplotlib.pyplot as plt\n",
    "\n",
    "# this particular function is for the graph legends\n",
    "from matplotlib.legend_handler import HandlerLine2D\n",
    "\n",
    "# scipy.constants works so you do not have to enter values for h, c and k manually\n",
    "import scipy.constants\n",
    "%matplotlib inline"
   ]
  },
  {
   "cell_type": "code",
   "execution_count": null,
   "metadata": {},
   "outputs": [],
   "source": [
    "# lets say that the first step is to calculate the planck function"
   ]
  },
  {
   "cell_type": "code",
   "execution_count": null,
   "metadata": {},
   "outputs": [],
   "source": [
    "# call the values for h, c and k to utilise in the following function\n",
    "from scipy.constants import h, c, k\n",
    "\n",
    "# here we generate a series of wavelengths as given in the question above\n",
    "lam = np.arange(1000,30000)*1.e-10\n",
    "\n",
    "# the following function will be utilised to calculate the Planck Function\n",
    "def planck(lam, T):\n",
    "    X = 2*h*(c**2)\n",
    "    Y = (h*c)/(lam*k*T)\n",
    "    B_lambda = (X/lam**5) * (1/(np.exp(Y)-1))\n",
    "    return B_lambda\n",
    "\n",
    "# we pick temperatures 3000K, 4000K, 5000K and 6000K and call the function defined to calculate B_lambda\n",
    "B1 = planck(lam, 3000)\n",
    "B2 = planck(lam, 4000)\n",
    "B3 = planck(lam, 5000)\n",
    "B4 = planck(lam, 6000)\n",
    "\n",
    "# plotting each intensity (with respect to wavelength), given an appropriate colour and label (for legend)\n",
    "plt.plot(lam*10**9, B1, 'r-', label='3000K')\n",
    "plt.plot(lam*10**9, B2, 'g-', label='4000K')\n",
    "plt.plot(lam*10**9, B3, 'b-', label='5000K')\n",
    "plt.plot(lam*10**9, B4, 'c-', label='6000K')\n",
    "\n",
    "# give the graph a title and axis labels and a legend\n",
    "plt.xlabel(\"Wavelength (nm)\")\n",
    "plt.ylabel(\"B_Lambda\")\n",
    "plt.title(\"Planck Function\")\n",
    "\n",
    "# found this from the internet - places the legend in the top right corner\n",
    "plt.legend(bbox_to_anchor=(1.02, 1.02), loc=2)"
   ]
  }
 ],
 "metadata": {
  "kernelspec": {
   "display_name": "Python 3",
   "language": "python",
   "name": "python3"
  },
  "language_info": {
   "codemirror_mode": {
    "name": "ipython",
    "version": 3
   },
   "file_extension": ".py",
   "mimetype": "text/x-python",
   "name": "python",
   "nbconvert_exporter": "python",
   "pygments_lexer": "ipython3",
   "version": "3.7.1"
  }
 },
 "nbformat": 4,
 "nbformat_minor": 2
}
