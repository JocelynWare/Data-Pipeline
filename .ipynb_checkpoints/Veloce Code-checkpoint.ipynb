{
 "cells": [
  {
   "cell_type": "code",
   "execution_count": null,
   "metadata": {
    "collapsed": true
   },
   "outputs": [],
   "source": [
    "import glob\n",
    "import astropy.io.fits as pyfits\n",
    "import numpy as np\n",
    "import datetime"
   ]
  },
  {
   "cell_type": "code",
   "execution_count": null,
   "metadata": {
    "collapsed": true
   },
   "outputs": [],
   "source": [
    "from veloce_reduction.veloce_reduction.get_info_from_headers import get_obstype_lists_temp\n",
    "from veloce_reduction.veloce_reduction.helper_functions import short_filenames\n",
    "from veloce_reduction.veloce_reduction.calibration import get_bias_and_readnoise_from_bias_frames, make_offmask_and_ronmask, make_master_bias_from_coeffs, make_master_dark, correct_orientation, crop_overscan_region\n",
    "from veloce_reduction.veloce_reduction.order_tracing import find_stripes, make_P_id, make_mask_dict, extract_stripes #, find_tramlines\n",
    "from veloce_reduction.veloce_reduction.spatial_profiles import fit_profiles, fit_profiles_from_indices\n",
    "from veloce_reduction.process_scripts import process_whites, process_science_images"
   ]
  },
  {
   "cell_type": "code",
   "execution_count": null,
   "metadata": {
    "collapsed": true
   },
   "outputs": [],
   "source": [
    "# import matplotlib.pyplot as plt\n",
    "# from scipy import ndimage\n",
    "# from scipy import signal\n",
    "# import h5py\n",
    "# import scipy.sparse as sparse\n",
    "#\n",
    "# import copy\n",
    "# #import logging\n",
    "# import time\n",
    "\n",
    "# from scipy.optimize import curve_fit\n",
    "# import collections\n",
    "# from scipy import special\n",
    "# from lmfit import minimize, Minimizer, Parameters, Parameter, report_fit, Model\n",
    "# from astropy.io import ascii\n",
    "# from matplotlib.colors import LogNorm\n",
    "# from readcol import readcol\n",
    "#from mpl_toolkits.mplot3d import Axes3D\n",
    "\n",
    "#from barycorrpy import get_BC_vel\n",
    "\n",
    "#from veloce_reduction.helper_functions import *\n",
    "# from veloce_reduction.get_info_from_headers import identify_obstypes, get_obs_coords_from_header\n",
    "# from veloce_reduction.create_master_frames import create_master_img\n",
    "\n",
    "# from veloce_reduction.cosmic_ray_removal import remove_cosmics\n",
    "# from veloce_reduction.background import extract_background, fit_background\n",
    "# from veloce_reduction.spatial_profiles import fit_profiles_from_indices, make_model_stripes_gausslike\n",
    "# #from veloce_reduction.find_laser_peaks_2D import find_laser_peaks_2D\n",
    "# from veloce_reduction.extraction import quick_extract, quick_extract_from_indices, collapse_extract, collapse_extract_from_indices, optimal_extraction, optimal_extraction_from_indices\n",
    "# from veloce_reduction.wavelength_solution import get_wavelength_solution, get_simu_dispsol, fit_emission_lines_lmfit, find_suitable_peaks\n",
    "# from veloce_reduction.flat_fielding import onedim_pixtopix_variations, deblaze_orders\n",
    "# from veloce_reduction.relative_intensities import get_relints\n",
    "# #from veloce_reduction.pseudoslit_simulations import *\n",
    "# from veloce_reduction.get_radial_velocity import get_RV_from_xcorr, get_rvs_from_xcorr\n",
    "\n",
    "# path = '/Volumes/BERGRAID/data/veloce/tests_20180723/'\n",
    "# path = '/Users/christoph/data/commissioning/20180916/'"
   ]
  },
  {
   "cell_type": "code",
   "execution_count": null,
   "metadata": {
    "collapsed": true
   },
   "outputs": [],
   "source": [
    "# (0) INFO FROM FITS HEADERS \n",
    "#####TEMP#####\n",
    "# bias_list,dark_list,white_list,thar_list,thxe_list,laser_list,stellar_list = identify_obstypes(path)\n",
    "# bias_list = glob.glob(path + 'Bias*.fits')\n",
    "# dark_list = glob.glob(path + 'Dark*.fits')\n",
    "# white_list = glob.glob(path + 'Light*.fits')\n",
    "# stellar_list = glob.glob(path + 'Light*.fits')\n",
    "###END TEMP###\n",
    "acq_list, bias_list, dark_list, flat_list, skyflat_list, domeflat_list, arc_list, thxe_list, laser_list, laser_and_thxe_list, stellar_list, unknown_list = get_obstype_lists_temp(path)\n",
    "obsnames = short_filenames(stellar_list)\n",
    "dumimg = crop_overscan_region(correct_orientation(pyfits.getdata(stellar_list[0])))\n",
    "ny,nx = dumimg.shape\n",
    "del dumimg\n"
   ]
  },
  {
   "cell_type": "code",
   "execution_count": null,
   "metadata": {
    "collapsed": true
   },
   "outputs": [],
   "source": [
    "# (1) BAD PIXEL MASK\n",
    "bpm_list = glob.glob(path + '*bad_pixel_mask*')\n",
    "#read most recent bad pixel mask\n",
    "bpm_dates = [x[-12:-4] for x in bpm_list]\n",
    "most_recent_datestring = sorted(bpm_dates)[-1]\n",
    "bad_pixel_mask = np.load(path + 'bad_pixel_mask_' + most_recent_datestring + '.npy')\n",
    "\n",
    "# update the pixel mask\n",
    "#blablabla\n",
    "\n",
    "#save updated bad pixel mask\n",
    "now = datetime.datetime.now()\n",
    "dumstring = str(now)[:10].split('-')\n",
    "datestring = ''.join(dumstring)\n",
    "np.save(path+'bad_pixel_mask_'+datestring+'.npy', bad_pixel_mask)\n"
   ]
  },
  {
   "cell_type": "code",
   "execution_count": null,
   "metadata": {
    "collapsed": true
   },
   "outputs": [],
   "source": [
    "# (2) CALIBRATION ###################################################################################################################################\n",
    "gain = [0.88, 0.93, 0.99, 0.93]   # from \"VELOCE_DETECTOR_REPORT_V1.PDF\"\n",
    "# (i) BIAS \n",
    "# get offsets and read-out noise\n",
    "#either from bias frames (units: [offsets] = ADUs; [RON] = e-)\n",
    "medbias,coeffs,offsets,rons = get_bias_and_readnoise_from_bias_frames(bias_list, degpol=5, clip=5., gain=gain, save_medimg=True, debug_level=0, timit=True)\n",
    "#or from the overscan regions\n",
    "\n",
    "# create MASTER BIAS frame and read-out noise mask (units = ADUs)\n",
    "offmask,ronmask = make_offmask_and_ronmask(offsets, rons, nx, ny, gain=gain, savefiles=True, path=path, timit=True)\n",
    "MB = make_master_bias_from_coeffs(coeffs, nx, ny, savefile=True, path=path, timit=True)\n",
    "# or\n",
    "# MB = offmask.copy()\n",
    "# #or\n",
    "# MB = medbias.copy()\n",
    "#XXXalso save read-noise and offsets for all headers to write later!?!?!?\n",
    "\n",
    "# (ii) DARKS\n",
    "# create (bias-subtracted) MASTER DARK frame (units = electrons)\n",
    "MD = make_master_dark(dark_list, MB=MB, gain=gain, scalable=False, savefile=True, path=path, timit=True)\n",
    "MDS = make_master_dark(dark_list, MB=MB, gain=gain, scalable=True, savefile=True, path=path, timit=True)\n",
    "\n",
    "# (iii) WHITES \n",
    "#create (bias- & dark-subtracted) MASTER WHITE frame and corresponding error array (units = electrons)\n",
    "MW,err_MW = process_whites(flat_list, MB=MB, ronmask=ronmask, MD=MD, gain=gain, scalable=False, fancy=False, clip=5., savefile=True, saveall=False, diffimg=False, path=None, timit=False)\n"
   ]
  },
  {
   "cell_type": "code",
   "execution_count": null,
   "metadata": {
    "collapsed": true
   },
   "outputs": [],
   "source": [
    "# (3) ORDER TRACING \n",
    "# find orders roughly\n",
    "P,tempmask = find_stripes(MW, deg_polynomial=2, min_peak=0.05, gauss_filter_sigma=3., simu=False)\n",
    "# assign physical diffraction order numbers (this is only a dummy function for now) to order-fit polynomials and bad-region masks\n",
    "P_id = make_P_id(P)\n",
    "mask = make_mask_dict(tempmask)\n",
    "# extract stripes of user-defined width from the science image, centred on the polynomial fits defined in step (1)\n",
    "MW_stripes,MW_indices = extract_stripes(MW, P_id, return_indices=True, slit_height=5)"
   ]
  },
  {
   "cell_type": "code",
   "execution_count": null,
   "metadata": {
    "collapsed": true
   },
   "outputs": [],
   "source": [
    "#if we want to determine spatial profiles, then we should remove cosmics and background from MW like so:\n",
    "\n",
    "# cosmic_cleaned_MW = remove_cosmics(MW, ronmask, obsname, path, Flim=3.0, siglim=5.0, maxiter=1, savemask=False, savefile=False, save_err=False, verbose=True, timit=True)\n",
    "# bg_corrected_MW = remove_background(cosmic_cleaned_MW, P_id, obsname, path, degpol=5, slit_height=5, save_bg=False, savefile=False, save_err=False, exclude_top_and_bottom=True, verbose=True, timit=True)\n",
    "#before doing the following:\n",
    "MW_stripes,MW_stripe_indices = extract_stripes(MW, P_id, return_indices=True, slit_height=30)\n",
    "err_MW_stripes = extract_stripes(err_MW, P_id, return_indices=False, slit_height=30)\n",
    "\n",
    "fp = fit_profiles(P_id, MW_stripes, err_MW_stripes, mask=mask, stacking=True, slit_height=5, model='gausslike', return_stats=True, timit=True)\n",
    "#OR\n",
    "fp2 = fit_profiles_from_indices(P_id, MW, err_MW, MW_stripe_indices, mask=mask, stacking=True, slit_height=5, model='gausslike', return_stats=True, timit=True)"
   ]
  },
  {
   "cell_type": "code",
   "execution_count": null,
   "metadata": {
    "collapsed": true
   },
   "outputs": [],
   "source": [
    "# (4) PROCESS SCIENCE IMAGES\n",
    "dum = process_science_images(stellar_list, P_id, mask=mask, sampling_size=25, slit_height=30, gain=gain, MB=medbias, ronmask=ronmask, MD=MDS, scalable=True, \n",
    "                             saveall=True, path=path, ext_method='quick', from_indices=True, timit=False)"
   ]
  }
 ],
 "metadata": {
  "kernelspec": {
   "display_name": "Python 3",
   "language": "python",
   "name": "python3"
  },
  "language_info": {
   "codemirror_mode": {
    "name": "ipython",
    "version": 3
   },
   "file_extension": ".py",
   "mimetype": "text/x-python",
   "name": "python",
   "nbconvert_exporter": "python",
   "pygments_lexer": "ipython3",
   "version": "3.6.3"
  }
 },
 "nbformat": 4,
 "nbformat_minor": 2
}
