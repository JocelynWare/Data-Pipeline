{
 "cells": [
  {
   "cell_type": "markdown",
   "metadata": {},
   "source": [
    "## this notebook is to call the .py files to jupyter to run the code"
   ]
  },
  {
   "cell_type": "code",
   "execution_count": 1,
   "metadata": {},
   "outputs": [],
   "source": [
    "## STEP 1 - Bias Subtraction (for example) ##"
   ]
  },
  {
   "cell_type": "code",
   "execution_count": 7,
   "metadata": {},
   "outputs": [],
   "source": [
    "from astropy.io import fits as pyfits\n",
    "import glob\n",
    "import scipy.stats as stats"
   ]
  },
  {
   "cell_type": "code",
   "execution_count": 25,
   "metadata": {},
   "outputs": [
    {
     "name": "stderr",
     "output_type": "stream",
     "text": [
      "/anaconda3/lib/python3.7/site-packages/matplotlib/font_manager.py:232: UserWarning: Matplotlib is building the font cache using fc-list. This may take a moment.\n",
      "  'Matplotlib is building the font cache using fc-list. '\n"
     ]
    }
   ],
   "source": [
    "import sys\n",
    "#sys.path.append('C:\\\\users\\\\alana\\\\anaconda2\\\\lib\\\\site-packages\\\\ppxf')\n",
    "sys.path.append('/Users/Jacob/Downloads')\n",
    "import astropy.io.fits as fits\n",
    "import os\n",
    "import numpy as np\n",
    "import glob\n",
    "#from ppxf import ppxf\n",
    "#import ppxf_util as util\n",
    "import matplotlib.pylab as P\n",
    "import matplotlib.pyplot as plt\n",
    "from matplotlib import gridspec"
   ]
  },
  {
   "cell_type": "code",
   "execution_count": null,
   "metadata": {},
   "outputs": [],
   "source": [
    "# first try to edit the text file so the parameters change"
   ]
  },
  {
   "cell_type": "code",
   "execution_count": 92,
   "metadata": {},
   "outputs": [
    {
     "ename": "IndentationError",
     "evalue": "expected an indented block (Step_1_Test.py, line 48)",
     "output_type": "error",
     "traceback": [
      "\u001b[0;36m  File \u001b[0;32m\"/Users/Jacob/Downloads/Step_1_Test.py\"\u001b[0;36m, line \u001b[0;32m48\u001b[0m\n\u001b[0;31m    X = 2*h*(c**2)\u001b[0m\n\u001b[0m    ^\u001b[0m\n\u001b[0;31mIndentationError\u001b[0m\u001b[0;31m:\u001b[0m expected an indented block\n"
     ]
    }
   ],
   "source": [
    "# this runs the code\n",
    "# for temperatures 3000K, 4000K, 5000K and 6000K and call the function defined to calculate B_lambda\n",
    "# here we generate a series of wavelengths as given in the question above - [lam = np.arange(1000,30000)*1.e-10]\n",
    "%run '/Users/Jacob/Downloads/Step_1_Test.py'"
   ]
  },
  {
   "cell_type": "code",
   "execution_count": 56,
   "metadata": {},
   "outputs": [],
   "source": [
    "# try to do it for 1000K, 1500K, 2000K and 2500K\n",
    "# also do it for lam = np.arange(3000,60000)*1.e-10\n",
    "\n",
    "# load just loads the code into the cell, rather than edits the file\n",
    "# %load '/Users/Jacob/Downloads/Step_1_Test.py'\n",
    "\n",
    "%edit '/Users/Jacob/Downloads/Step_1_Test.py'"
   ]
  },
  {
   "cell_type": "code",
   "execution_count": 85,
   "metadata": {},
   "outputs": [],
   "source": [
    "data = ('/Users/Jacob/Downloads/Step_1_Test.py')"
   ]
  },
  {
   "cell_type": "code",
   "execution_count": 86,
   "metadata": {},
   "outputs": [],
   "source": [
    "with open(\"/Users/Jacob/Downloads/Step_1_Test.py\", \"r\") as f: # 'r' as reading mode\n",
    "    lines = f.read()\n",
    "    if lam \n",
    "        with open(\"/Users/Jacob/Downloads/Step_1_Test.py\", 'a') as f: # 'a' as an appending mode\n",
    "            lines = f.write(\"additional text\")"
   ]
  },
  {
   "cell_type": "code",
   "execution_count": 87,
   "metadata": {},
   "outputs": [
    {
     "name": "stdout",
     "output_type": "stream",
     "text": [
      "15\n"
     ]
    }
   ],
   "source": [
    "print(lines)"
   ]
  },
  {
   "cell_type": "code",
   "execution_count": 94,
   "metadata": {},
   "outputs": [],
   "source": [
    "## to edit parameters\n",
    "import fileinput\n",
    "for line in fileinput.input('/Users/Jacob/Downloads/Step_1_Test.py', inplace = True):\n",
    "    if line.startswith('lam'):\n",
    "        #if line starts with lam then do something here\n",
    "        print (\"lam = np.arange(3000,60000)*1.e-10\")\n",
    "    elif line.startswith('B1'):\n",
    "        #if line starts with B1 then do something here\n",
    "        print (\"B1 = planck(lam, 1000)\")\n",
    "    elif line.startswith('B2'):\n",
    "        #if line starts with B2 then do something here\n",
    "        print (\"B2 = planck(lam, 1500)\")\n",
    "    elif line.startswith('B3'):\n",
    "        #if line starts with B3 then do something here\n",
    "        print (\"B3 = planck(lam, 2000)\")\n",
    "    elif line.startswith('B4'):\n",
    "        #if line starts with B4 then do something here\n",
    "        print (\"B4 = planck(lam, 2500)\")\n",
    "    else:\n",
    "        print (line.strip())"
   ]
  },
  {
   "cell_type": "code",
   "execution_count": null,
   "metadata": {},
   "outputs": [],
   "source": []
  }
 ],
 "metadata": {
  "kernelspec": {
   "display_name": "Python 3",
   "language": "python",
   "name": "python3"
  },
  "language_info": {
   "codemirror_mode": {
    "name": "ipython",
    "version": 3
   },
   "file_extension": ".py",
   "mimetype": "text/x-python",
   "name": "python",
   "nbconvert_exporter": "python",
   "pygments_lexer": "ipython3",
   "version": "3.7.1"
  }
 },
 "nbformat": 4,
 "nbformat_minor": 2
}
